{
 "cells": [
  {
   "cell_type": "code",
   "execution_count": 75,
   "metadata": {},
   "outputs": [],
   "source": [
    "from tqdm import tqdm\n",
    "\n",
    "import numpy as np\n",
    "import pandas as pd\n",
    "\n",
    "import pickle\n",
    "\n",
    "from collections import defaultdict, Counter"
   ]
  },
  {
   "cell_type": "code",
   "execution_count": 66,
   "metadata": {},
   "outputs": [],
   "source": [
    "train = pd.read_parquet('../data/optimised/train.parquet')\n",
    "test = pd.read_parquet('../data/optimised/test.parquet')\n",
    "\n",
    "\n",
    "with open('../data/optimised/id2type.pkl', \"rb\") as fh:\n",
    "    id2type = pickle.load(fh)\n",
    "with open('../data/optimised/type2id.pkl', \"rb\") as fh:\n",
    "    type2id = pickle.load(fh)\n",
    "    \n",
    "sample_sub = pd.read_csv('../data/sample_submission.csv')"
   ]
  },
  {
   "cell_type": "code",
   "execution_count": 67,
   "metadata": {},
   "outputs": [
    {
     "data": {
      "text/html": [
       "<div>\n",
       "<style scoped>\n",
       "    .dataframe tbody tr th:only-of-type {\n",
       "        vertical-align: middle;\n",
       "    }\n",
       "\n",
       "    .dataframe tbody tr th {\n",
       "        vertical-align: top;\n",
       "    }\n",
       "\n",
       "    .dataframe thead th {\n",
       "        text-align: right;\n",
       "    }\n",
       "</style>\n",
       "<table border=\"1\" class=\"dataframe\">\n",
       "  <thead>\n",
       "    <tr style=\"text-align: right;\">\n",
       "      <th></th>\n",
       "      <th>session</th>\n",
       "      <th>aid</th>\n",
       "      <th>ts</th>\n",
       "      <th>type</th>\n",
       "    </tr>\n",
       "  </thead>\n",
       "  <tbody>\n",
       "    <tr>\n",
       "      <th>0</th>\n",
       "      <td>0</td>\n",
       "      <td>1517085</td>\n",
       "      <td>1659304800</td>\n",
       "      <td>0</td>\n",
       "    </tr>\n",
       "    <tr>\n",
       "      <th>1</th>\n",
       "      <td>0</td>\n",
       "      <td>1563459</td>\n",
       "      <td>1659304904</td>\n",
       "      <td>0</td>\n",
       "    </tr>\n",
       "    <tr>\n",
       "      <th>2</th>\n",
       "      <td>0</td>\n",
       "      <td>1309446</td>\n",
       "      <td>1659367439</td>\n",
       "      <td>0</td>\n",
       "    </tr>\n",
       "    <tr>\n",
       "      <th>3</th>\n",
       "      <td>0</td>\n",
       "      <td>16246</td>\n",
       "      <td>1659367719</td>\n",
       "      <td>0</td>\n",
       "    </tr>\n",
       "    <tr>\n",
       "      <th>4</th>\n",
       "      <td>0</td>\n",
       "      <td>1781822</td>\n",
       "      <td>1659367871</td>\n",
       "      <td>0</td>\n",
       "    </tr>\n",
       "    <tr>\n",
       "      <th>...</th>\n",
       "      <td>...</td>\n",
       "      <td>...</td>\n",
       "      <td>...</td>\n",
       "      <td>...</td>\n",
       "    </tr>\n",
       "    <tr>\n",
       "      <th>216716091</th>\n",
       "      <td>12899776</td>\n",
       "      <td>1737908</td>\n",
       "      <td>1661723987</td>\n",
       "      <td>0</td>\n",
       "    </tr>\n",
       "    <tr>\n",
       "      <th>216716092</th>\n",
       "      <td>12899777</td>\n",
       "      <td>384045</td>\n",
       "      <td>1661723976</td>\n",
       "      <td>0</td>\n",
       "    </tr>\n",
       "    <tr>\n",
       "      <th>216716093</th>\n",
       "      <td>12899777</td>\n",
       "      <td>384045</td>\n",
       "      <td>1661723986</td>\n",
       "      <td>0</td>\n",
       "    </tr>\n",
       "    <tr>\n",
       "      <th>216716094</th>\n",
       "      <td>12899778</td>\n",
       "      <td>561560</td>\n",
       "      <td>1661723983</td>\n",
       "      <td>0</td>\n",
       "    </tr>\n",
       "    <tr>\n",
       "      <th>216716095</th>\n",
       "      <td>12899778</td>\n",
       "      <td>32070</td>\n",
       "      <td>1661723994</td>\n",
       "      <td>0</td>\n",
       "    </tr>\n",
       "  </tbody>\n",
       "</table>\n",
       "<p>216716096 rows × 4 columns</p>\n",
       "</div>"
      ],
      "text/plain": [
       "            session      aid          ts  type\n",
       "0                 0  1517085  1659304800     0\n",
       "1                 0  1563459  1659304904     0\n",
       "2                 0  1309446  1659367439     0\n",
       "3                 0    16246  1659367719     0\n",
       "4                 0  1781822  1659367871     0\n",
       "...             ...      ...         ...   ...\n",
       "216716091  12899776  1737908  1661723987     0\n",
       "216716092  12899777   384045  1661723976     0\n",
       "216716093  12899777   384045  1661723986     0\n",
       "216716094  12899778   561560  1661723983     0\n",
       "216716095  12899778    32070  1661723994     0\n",
       "\n",
       "[216716096 rows x 4 columns]"
      ]
     },
     "metadata": {},
     "output_type": "display_data"
    }
   ],
   "source": [
    "display(train)"
   ]
  },
  {
   "cell_type": "code",
   "execution_count": 68,
   "metadata": {},
   "outputs": [
    {
     "data": {
      "text/html": [
       "<div>\n",
       "<style scoped>\n",
       "    .dataframe tbody tr th:only-of-type {\n",
       "        vertical-align: middle;\n",
       "    }\n",
       "\n",
       "    .dataframe tbody tr th {\n",
       "        vertical-align: top;\n",
       "    }\n",
       "\n",
       "    .dataframe thead th {\n",
       "        text-align: right;\n",
       "    }\n",
       "</style>\n",
       "<table border=\"1\" class=\"dataframe\">\n",
       "  <thead>\n",
       "    <tr style=\"text-align: right;\">\n",
       "      <th></th>\n",
       "      <th>session</th>\n",
       "      <th>aid</th>\n",
       "      <th>ts</th>\n",
       "      <th>type</th>\n",
       "    </tr>\n",
       "  </thead>\n",
       "  <tbody>\n",
       "    <tr>\n",
       "      <th>0</th>\n",
       "      <td>12899779</td>\n",
       "      <td>59625</td>\n",
       "      <td>1661724000</td>\n",
       "      <td>0</td>\n",
       "    </tr>\n",
       "    <tr>\n",
       "      <th>1</th>\n",
       "      <td>12899780</td>\n",
       "      <td>1142000</td>\n",
       "      <td>1661724000</td>\n",
       "      <td>0</td>\n",
       "    </tr>\n",
       "    <tr>\n",
       "      <th>2</th>\n",
       "      <td>12899780</td>\n",
       "      <td>582732</td>\n",
       "      <td>1661724058</td>\n",
       "      <td>0</td>\n",
       "    </tr>\n",
       "    <tr>\n",
       "      <th>3</th>\n",
       "      <td>12899780</td>\n",
       "      <td>973453</td>\n",
       "      <td>1661724109</td>\n",
       "      <td>0</td>\n",
       "    </tr>\n",
       "    <tr>\n",
       "      <th>4</th>\n",
       "      <td>12899780</td>\n",
       "      <td>736515</td>\n",
       "      <td>1661724136</td>\n",
       "      <td>0</td>\n",
       "    </tr>\n",
       "    <tr>\n",
       "      <th>...</th>\n",
       "      <td>...</td>\n",
       "      <td>...</td>\n",
       "      <td>...</td>\n",
       "      <td>...</td>\n",
       "    </tr>\n",
       "    <tr>\n",
       "      <th>6928118</th>\n",
       "      <td>14571577</td>\n",
       "      <td>1141710</td>\n",
       "      <td>1662328774</td>\n",
       "      <td>0</td>\n",
       "    </tr>\n",
       "    <tr>\n",
       "      <th>6928119</th>\n",
       "      <td>14571578</td>\n",
       "      <td>519105</td>\n",
       "      <td>1662328775</td>\n",
       "      <td>0</td>\n",
       "    </tr>\n",
       "    <tr>\n",
       "      <th>6928120</th>\n",
       "      <td>14571579</td>\n",
       "      <td>739876</td>\n",
       "      <td>1662328775</td>\n",
       "      <td>0</td>\n",
       "    </tr>\n",
       "    <tr>\n",
       "      <th>6928121</th>\n",
       "      <td>14571580</td>\n",
       "      <td>202353</td>\n",
       "      <td>1662328781</td>\n",
       "      <td>0</td>\n",
       "    </tr>\n",
       "    <tr>\n",
       "      <th>6928122</th>\n",
       "      <td>14571581</td>\n",
       "      <td>1100210</td>\n",
       "      <td>1662328791</td>\n",
       "      <td>0</td>\n",
       "    </tr>\n",
       "  </tbody>\n",
       "</table>\n",
       "<p>6928123 rows × 4 columns</p>\n",
       "</div>"
      ],
      "text/plain": [
       "          session      aid          ts  type\n",
       "0        12899779    59625  1661724000     0\n",
       "1        12899780  1142000  1661724000     0\n",
       "2        12899780   582732  1661724058     0\n",
       "3        12899780   973453  1661724109     0\n",
       "4        12899780   736515  1661724136     0\n",
       "...           ...      ...         ...   ...\n",
       "6928118  14571577  1141710  1662328774     0\n",
       "6928119  14571578   519105  1662328775     0\n",
       "6928120  14571579   739876  1662328775     0\n",
       "6928121  14571580   202353  1662328781     0\n",
       "6928122  14571581  1100210  1662328791     0\n",
       "\n",
       "[6928123 rows x 4 columns]"
      ]
     },
     "metadata": {},
     "output_type": "display_data"
    }
   ],
   "source": [
    "display(test)"
   ]
  },
  {
   "cell_type": "code",
   "execution_count": 69,
   "metadata": {},
   "outputs": [],
   "source": [
    "retained_train_sessions = train.drop_duplicates(subset=['session'])['session']\n",
    "df_train = train[train['session'].isin(retained_train_sessions)]\n",
    "df_train.index = pd.MultiIndex.from_frame(df_train[['session']])\n",
    "\n",
    "retained_test_sessions = test.drop_duplicates(subset=['session'])['session']\n",
    "df_test = test[test['session'].isin(retained_test_sessions)]\n",
    "df_test.index = pd.MultiIndex.from_frame(df_test[['session']])"
   ]
  },
  {
   "cell_type": "code",
   "execution_count": 71,
   "metadata": {},
   "outputs": [
    {
     "name": "stdout",
     "output_type": "stream",
     "text": [
      "(216716096, 4) (6928123, 4)\n"
     ]
    }
   ],
   "source": [
    "print(df_train.shape, df_test.shape)"
   ]
  },
  {
   "cell_type": "code",
   "execution_count": 82,
   "metadata": {},
   "outputs": [
    {
     "name": "stderr",
     "output_type": "stream",
     "text": [
      "100%|██████████| 430/430 [00:25<00:00, 16.70it/s]\n"
     ]
    }
   ],
   "source": [
    "covisitation_matrix = defaultdict(Counter)\n",
    "sessions = train.session.unique()\n",
    "chunk_size = 30_000\n",
    "\n",
    "for i in tqdm(range(0, sessions.shape[0], chunk_size)):\n",
    "    # get current chunk of sessions\n",
    "    temp = train.loc[sessions[i]:sessions[min(sessions.shape[0]-1, i+chunk_size-1)]].reset_index(drop=True)\n",
    "\n",
    "    # get 30 most recent products per session\n",
    "    temp = temp.groupby('session', as_index=False).tail(30).reset_index(drop=True)\n",
    "\n",
    "    # merge temp to temp\n",
    "    temp = temp.merge(temp, on='session', suffixes=('_x', '_y'))\n",
    "\n",
    "    temp =  temp[temp.aid_x != temp.aid_y]\n",
    "\n",
    "    # create a column to calculate days elapsed between aid_y and aid_x\n",
    "    temp['days_elapsed'] = (temp.ts_y - temp.ts_x) / (24 * 60 * 60)\n",
    "\n",
    "    # filter out rows where days elapsed is between 0 and 1\n",
    "    temp = temp[(temp.days_elapsed > 0) & (temp.days_elapsed <= 1)]\n",
    "\n",
    "    # drop duplicates based on session, aid_x, aid_y\n",
    "    temp.drop_duplicates(subset=['session', 'aid_x', 'aid_y'], inplace=True)\n",
    "\n",
    "    # zip aid_x and aid_y, and index them in index\n",
    "    for aid_x, aid_y in zip(temp.aid_x, temp.aid_y):\n",
    "        covisitation_matrix[aid_x][aid_y] += 1"
   ]
  },
  {
   "cell_type": "code",
   "execution_count": 85,
   "metadata": {},
   "outputs": [
    {
     "data": {
      "text/plain": [
       "598757"
      ]
     },
     "execution_count": 85,
     "metadata": {},
     "output_type": "execute_result"
    }
   ],
   "source": [
    "len(covisitation_matrix)"
   ]
  }
 ],
 "metadata": {
  "kernelspec": {
   "display_name": "Python 3.8.12 ('pytorch')",
   "language": "python",
   "name": "python3"
  },
  "language_info": {
   "codemirror_mode": {
    "name": "ipython",
    "version": 3
   },
   "file_extension": ".py",
   "mimetype": "text/x-python",
   "name": "python",
   "nbconvert_exporter": "python",
   "pygments_lexer": "ipython3",
   "version": "3.8.12"
  },
  "orig_nbformat": 4,
  "vscode": {
   "interpreter": {
    "hash": "d9326900fcebfee01e1cdd31357bd8776d7e04e2771695113de85227289b23ce"
   }
  }
 },
 "nbformat": 4,
 "nbformat_minor": 2
}
