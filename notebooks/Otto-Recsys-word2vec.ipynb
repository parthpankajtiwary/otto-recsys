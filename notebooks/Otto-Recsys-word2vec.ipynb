{
 "cells": [
  {
   "cell_type": "code",
   "execution_count": 1,
   "metadata": {},
   "outputs": [],
   "source": [
    "import numpy as np\n",
    "import pandas as pd\n",
    "\n",
    "from collections import defaultdict, Counter\n",
    "\n",
    "import polars as pl\n",
    "from gensim.test.utils import common_texts\n",
    "from gensim.models import Word2Vec"
   ]
  },
  {
   "cell_type": "code",
   "execution_count": null,
   "metadata": {},
   "outputs": [],
   "source": [
    "class config:\n",
    "    data_path = \"../otto/data/optimised_dataset/\"\n",
    "    local_validation = True\n",
    "    debug = False\n",
    "    validation_path = \"../otto/data/optimised_dataset/validation/\"\n",
    "    train_file = \"train.parquet\"\n",
    "    test_file = \"test.parquet\"\n",
    "    test_labels_file = \"test_labels.parquet\"\n",
    "    submission_path = \"submissions/\"\n",
    "    submission_file = \"submission_{:%Y-%m-%d_%H-%M}.csv\"\n",
    "    type_labels = {\"clicks\": 0, \"carts\": 1, \"orders\": 2}\n",
    "    type_weight = {0: 1, 1: 6, 2: 3}\n",
    "    version = 1\n",
    "    chunk_size = 100_000\n",
    "    random_state = 42\n",
    "    fraction = 0.02\n",
    "    n_samples = 30\n",
    "    n_top = 15\n",
    "    diff_clicks = 24 * 60 * 60"
   ]
  },
  {
   "cell_type": "code",
   "execution_count": 15,
   "metadata": {},
   "outputs": [],
   "source": [
    "train = pl.read_parquet(config.data_path + config.train_file)\n",
    "test = pl.read_parquet(config.data_path + config.test_file)"
   ]
  },
  {
   "cell_type": "code",
   "execution_count": 16,
   "metadata": {},
   "outputs": [],
   "source": [
    "sentences_df = (\n",
    "    pl.concat([train, test]).groupby(\"session\").agg(pl.col(\"aid\").alias(\"sentence\"))\n",
    ")"
   ]
  },
  {
   "cell_type": "code",
   "execution_count": 17,
   "metadata": {},
   "outputs": [],
   "source": [
    "sentences = sentences_df[\"sentence\"].to_list()"
   ]
  },
  {
   "cell_type": "code",
   "execution_count": 18,
   "metadata": {},
   "outputs": [
    {
     "name": "stdout",
     "output_type": "stream",
     "text": [
      "CPU times: user 1h 13min 25s, sys: 4 s, total: 1h 13min 29s\n",
      "Wall time: 10min 52s\n"
     ]
    }
   ],
   "source": [
    "%%time\n",
    "\n",
    "word2vec = Word2Vec(\n",
    "    sentences=sentences, vector_size=100, window=5, negative=10, workers=12\n",
    ")"
   ]
  },
  {
   "cell_type": "code",
   "execution_count": 19,
   "metadata": {},
   "outputs": [],
   "source": [
    "word2vec.save(\"word2vec-windowsize-5-vector-size-100-full-data.model\")"
   ]
  },
  {
   "cell_type": "code",
   "execution_count": 32,
   "metadata": {},
   "outputs": [
    {
     "name": "stdout",
     "output_type": "stream",
     "text": [
      "CPU times: user 6min 27s, sys: 1min 24s, total: 7min 51s\n",
      "Wall time: 24.4 s\n"
     ]
    },
    {
     "data": {
      "text/plain": [
       "True"
      ]
     },
     "execution_count": 32,
     "metadata": {},
     "output_type": "execute_result"
    }
   ],
   "source": [
    "%%time\n",
    "\n",
    "from annoy import AnnoyIndex\n",
    "\n",
    "aid2idx = {aid: i for i, aid in enumerate(word2vec.wv.index_to_key)}\n",
    "index = AnnoyIndex(10, \"euclidean\")\n",
    "\n",
    "for aid, idx in aid2idx.items():\n",
    "    index.add_item(idx, word2vec.wv.vectors[idx])\n",
    "\n",
    "index.build(100)"
   ]
  },
  {
   "cell_type": "code",
   "execution_count": 31,
   "metadata": {},
   "outputs": [],
   "source": [
    "session_types = [\"clicks\", \"carts\", \"orders\"]\n",
    "test_session_products = (\n",
    "    test.to_pandas().reset_index(drop=True).groupby(\"session\")[\"aid\"].apply(list)\n",
    ")\n",
    "test_session_types = (\n",
    "    test.to_pandas().reset_index(drop=True).groupby(\"session\")[\"type\"].apply(list)\n",
    ")\n",
    "\n",
    "labels = []\n",
    "\n",
    "type_weight_multipliers = {0: 1, 1: 6, 2: 3}"
   ]
  },
  {
   "cell_type": "code",
   "execution_count": 27,
   "metadata": {},
   "outputs": [
    {
     "name": "stdout",
     "output_type": "stream",
     "text": [
      "[11830] [0] [884502, 1732105, 87442, 1633746, 1125638, 487136, 432989, 1182614, 807298, 876129, 582732, 588923, 1134980, 1481487, 146086, 409620, 517826, 825072, 135833, 1344942]\n"
     ]
    }
   ],
   "source": [
    "for products, types in zip(test_session_products, test_session_types):\n",
    "    products = list(dict.fromkeys(products[::-1]))\n",
    "\n",
    "    most_recent_product = products[0]\n",
    "\n",
    "    nns = [\n",
    "        word2vec.wv.index_to_key[i]\n",
    "        for i in index.get_nns_by_item(aid2idx[most_recent_product], 21)[1:]\n",
    "    ]\n",
    "\n",
    "    print(products, types, nns)\n",
    "\n",
    "    break"
   ]
  }
 ],
 "metadata": {
  "kernelspec": {
   "display_name": "Python 3 (ipykernel)",
   "language": "python",
   "name": "python3"
  },
  "language_info": {
   "codemirror_mode": {
    "name": "ipython",
    "version": 3
   },
   "file_extension": ".py",
   "mimetype": "text/x-python",
   "name": "python",
   "nbconvert_exporter": "python",
   "pygments_lexer": "ipython3",
   "version": "3.8.10"
  },
  "orig_nbformat": 4,
  "vscode": {
   "interpreter": {
    "hash": "cb7d3506f6b9ec02b64e3bf4f1192f2c202eabfa04777042b4cf2d3aa9ab065c"
   }
  }
 },
 "nbformat": 4,
 "nbformat_minor": 2
}
