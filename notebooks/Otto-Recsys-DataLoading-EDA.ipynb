{
 "cells": [
  {
   "cell_type": "code",
   "execution_count": 97,
   "id": "45aae632",
   "metadata": {},
   "outputs": [],
   "source": [
    "import random\n",
    "\n",
    "import numpy as np\n",
    "import pandas as pd\n",
    "\n",
    "from matplotlib import dates\n",
    "import matplotlib.pyplot as plt\n",
    "import seaborn as sns\n",
    "\n",
    "import warnings\n",
    "\n",
    "warnings.filterwarnings(\"ignore\")"
   ]
  },
  {
   "cell_type": "code",
   "execution_count": 104,
   "id": "5c158156",
   "metadata": {},
   "outputs": [],
   "source": [
    "chunks = pd.read_json(\"../data/train.jsonl\", lines=True, chunksize=100_000)"
   ]
  },
  {
   "cell_type": "code",
   "execution_count": 105,
   "id": "bc7b9cdd",
   "metadata": {},
   "outputs": [],
   "source": [
    "train = pd.DataFrame()"
   ]
  },
  {
   "cell_type": "code",
   "execution_count": 106,
   "id": "fdcae5a4",
   "metadata": {},
   "outputs": [],
   "source": [
    "for i, chunk in enumerate(chunks):\n",
    "    event_dict = {\"session\": [], \"aid\": [], \"ts\": [], \"type\": []}\n",
    "\n",
    "    if i >= 2:\n",
    "        break\n",
    "    for session, events in zip(chunk[\"session\"].tolist(), chunk[\"events\"].tolist()):\n",
    "        for event in events:\n",
    "            event_dict[\"session\"].append(session)\n",
    "            event_dict[\"aid\"].append(event[\"aid\"])\n",
    "            event_dict[\"ts\"].append(event[\"ts\"])\n",
    "            event_dict[\"type\"].append(event[\"type\"])\n",
    "    chunk_session = pd.DataFrame(event_dict)\n",
    "    train = pd.concat([train, chunk_session])"
   ]
  },
  {
   "cell_type": "code",
   "execution_count": 107,
   "id": "2a98bfcf",
   "metadata": {},
   "outputs": [],
   "source": [
    "train = train.reset_index(drop=True)"
   ]
  },
  {
   "cell_type": "code",
   "execution_count": 108,
   "id": "b1eda636",
   "metadata": {},
   "outputs": [
    {
     "data": {
      "text/html": [
       "<div>\n",
       "<style scoped>\n",
       "    .dataframe tbody tr th:only-of-type {\n",
       "        vertical-align: middle;\n",
       "    }\n",
       "\n",
       "    .dataframe tbody tr th {\n",
       "        vertical-align: top;\n",
       "    }\n",
       "\n",
       "    .dataframe thead th {\n",
       "        text-align: right;\n",
       "    }\n",
       "</style>\n",
       "<table border=\"1\" class=\"dataframe\">\n",
       "  <thead>\n",
       "    <tr style=\"text-align: right;\">\n",
       "      <th></th>\n",
       "      <th>session</th>\n",
       "      <th>aid</th>\n",
       "      <th>ts</th>\n",
       "      <th>type</th>\n",
       "    </tr>\n",
       "  </thead>\n",
       "  <tbody>\n",
       "    <tr>\n",
       "      <th>0</th>\n",
       "      <td>0</td>\n",
       "      <td>1517085</td>\n",
       "      <td>1659304800025</td>\n",
       "      <td>clicks</td>\n",
       "    </tr>\n",
       "    <tr>\n",
       "      <th>1</th>\n",
       "      <td>0</td>\n",
       "      <td>1563459</td>\n",
       "      <td>1659304904511</td>\n",
       "      <td>clicks</td>\n",
       "    </tr>\n",
       "    <tr>\n",
       "      <th>2</th>\n",
       "      <td>0</td>\n",
       "      <td>1309446</td>\n",
       "      <td>1659367439426</td>\n",
       "      <td>clicks</td>\n",
       "    </tr>\n",
       "    <tr>\n",
       "      <th>3</th>\n",
       "      <td>0</td>\n",
       "      <td>16246</td>\n",
       "      <td>1659367719997</td>\n",
       "      <td>clicks</td>\n",
       "    </tr>\n",
       "    <tr>\n",
       "      <th>4</th>\n",
       "      <td>0</td>\n",
       "      <td>1781822</td>\n",
       "      <td>1659367871344</td>\n",
       "      <td>clicks</td>\n",
       "    </tr>\n",
       "    <tr>\n",
       "      <th>...</th>\n",
       "      <td>...</td>\n",
       "      <td>...</td>\n",
       "      <td>...</td>\n",
       "      <td>...</td>\n",
       "    </tr>\n",
       "    <tr>\n",
       "      <th>10285556</th>\n",
       "      <td>199999</td>\n",
       "      <td>928064</td>\n",
       "      <td>1659336408967</td>\n",
       "      <td>clicks</td>\n",
       "    </tr>\n",
       "    <tr>\n",
       "      <th>10285557</th>\n",
       "      <td>199999</td>\n",
       "      <td>849970</td>\n",
       "      <td>1659336449078</td>\n",
       "      <td>clicks</td>\n",
       "    </tr>\n",
       "    <tr>\n",
       "      <th>10285558</th>\n",
       "      <td>199999</td>\n",
       "      <td>1052480</td>\n",
       "      <td>1659336547035</td>\n",
       "      <td>clicks</td>\n",
       "    </tr>\n",
       "    <tr>\n",
       "      <th>10285559</th>\n",
       "      <td>199999</td>\n",
       "      <td>487255</td>\n",
       "      <td>1659336561116</td>\n",
       "      <td>clicks</td>\n",
       "    </tr>\n",
       "    <tr>\n",
       "      <th>10285560</th>\n",
       "      <td>199999</td>\n",
       "      <td>1138833</td>\n",
       "      <td>1659336575075</td>\n",
       "      <td>clicks</td>\n",
       "    </tr>\n",
       "  </tbody>\n",
       "</table>\n",
       "<p>10285561 rows × 4 columns</p>\n",
       "</div>"
      ],
      "text/plain": [
       "          session      aid             ts    type\n",
       "0               0  1517085  1659304800025  clicks\n",
       "1               0  1563459  1659304904511  clicks\n",
       "2               0  1309446  1659367439426  clicks\n",
       "3               0    16246  1659367719997  clicks\n",
       "4               0  1781822  1659367871344  clicks\n",
       "...           ...      ...            ...     ...\n",
       "10285556   199999   928064  1659336408967  clicks\n",
       "10285557   199999   849970  1659336449078  clicks\n",
       "10285558   199999  1052480  1659336547035  clicks\n",
       "10285559   199999   487255  1659336561116  clicks\n",
       "10285560   199999  1138833  1659336575075  clicks\n",
       "\n",
       "[10285561 rows x 4 columns]"
      ]
     },
     "metadata": {},
     "output_type": "display_data"
    }
   ],
   "source": [
    "display(train)"
   ]
  },
  {
   "cell_type": "code",
   "execution_count": 109,
   "id": "26cecc74",
   "metadata": {},
   "outputs": [],
   "source": [
    "train.rename(\n",
    "    index=str,\n",
    "    columns={\n",
    "        \"session\": \"customer_id\",\n",
    "        \"aid\": \"product_code\",\n",
    "        \"ts\": \"time_stamp\",\n",
    "        \"type\": \"event_type\",\n",
    "    },\n",
    "    inplace=True,\n",
    ")"
   ]
  },
  {
   "cell_type": "code",
   "execution_count": 110,
   "id": "8da40e03",
   "metadata": {},
   "outputs": [
    {
     "data": {
      "text/html": [
       "<div>\n",
       "<style scoped>\n",
       "    .dataframe tbody tr th:only-of-type {\n",
       "        vertical-align: middle;\n",
       "    }\n",
       "\n",
       "    .dataframe tbody tr th {\n",
       "        vertical-align: top;\n",
       "    }\n",
       "\n",
       "    .dataframe thead th {\n",
       "        text-align: right;\n",
       "    }\n",
       "</style>\n",
       "<table border=\"1\" class=\"dataframe\">\n",
       "  <thead>\n",
       "    <tr style=\"text-align: right;\">\n",
       "      <th></th>\n",
       "      <th>customer_id</th>\n",
       "      <th>product_code</th>\n",
       "      <th>time_stamp</th>\n",
       "      <th>event_type</th>\n",
       "    </tr>\n",
       "  </thead>\n",
       "  <tbody>\n",
       "    <tr>\n",
       "      <th>0</th>\n",
       "      <td>0</td>\n",
       "      <td>1517085</td>\n",
       "      <td>1659304800025</td>\n",
       "      <td>clicks</td>\n",
       "    </tr>\n",
       "    <tr>\n",
       "      <th>1</th>\n",
       "      <td>0</td>\n",
       "      <td>1563459</td>\n",
       "      <td>1659304904511</td>\n",
       "      <td>clicks</td>\n",
       "    </tr>\n",
       "    <tr>\n",
       "      <th>2</th>\n",
       "      <td>0</td>\n",
       "      <td>1309446</td>\n",
       "      <td>1659367439426</td>\n",
       "      <td>clicks</td>\n",
       "    </tr>\n",
       "    <tr>\n",
       "      <th>3</th>\n",
       "      <td>0</td>\n",
       "      <td>16246</td>\n",
       "      <td>1659367719997</td>\n",
       "      <td>clicks</td>\n",
       "    </tr>\n",
       "    <tr>\n",
       "      <th>4</th>\n",
       "      <td>0</td>\n",
       "      <td>1781822</td>\n",
       "      <td>1659367871344</td>\n",
       "      <td>clicks</td>\n",
       "    </tr>\n",
       "    <tr>\n",
       "      <th>...</th>\n",
       "      <td>...</td>\n",
       "      <td>...</td>\n",
       "      <td>...</td>\n",
       "      <td>...</td>\n",
       "    </tr>\n",
       "    <tr>\n",
       "      <th>10285556</th>\n",
       "      <td>199999</td>\n",
       "      <td>928064</td>\n",
       "      <td>1659336408967</td>\n",
       "      <td>clicks</td>\n",
       "    </tr>\n",
       "    <tr>\n",
       "      <th>10285557</th>\n",
       "      <td>199999</td>\n",
       "      <td>849970</td>\n",
       "      <td>1659336449078</td>\n",
       "      <td>clicks</td>\n",
       "    </tr>\n",
       "    <tr>\n",
       "      <th>10285558</th>\n",
       "      <td>199999</td>\n",
       "      <td>1052480</td>\n",
       "      <td>1659336547035</td>\n",
       "      <td>clicks</td>\n",
       "    </tr>\n",
       "    <tr>\n",
       "      <th>10285559</th>\n",
       "      <td>199999</td>\n",
       "      <td>487255</td>\n",
       "      <td>1659336561116</td>\n",
       "      <td>clicks</td>\n",
       "    </tr>\n",
       "    <tr>\n",
       "      <th>10285560</th>\n",
       "      <td>199999</td>\n",
       "      <td>1138833</td>\n",
       "      <td>1659336575075</td>\n",
       "      <td>clicks</td>\n",
       "    </tr>\n",
       "  </tbody>\n",
       "</table>\n",
       "<p>10285561 rows × 4 columns</p>\n",
       "</div>"
      ],
      "text/plain": [
       "          customer_id  product_code     time_stamp event_type\n",
       "0                   0       1517085  1659304800025     clicks\n",
       "1                   0       1563459  1659304904511     clicks\n",
       "2                   0       1309446  1659367439426     clicks\n",
       "3                   0         16246  1659367719997     clicks\n",
       "4                   0       1781822  1659367871344     clicks\n",
       "...               ...           ...            ...        ...\n",
       "10285556       199999        928064  1659336408967     clicks\n",
       "10285557       199999        849970  1659336449078     clicks\n",
       "10285558       199999       1052480  1659336547035     clicks\n",
       "10285559       199999        487255  1659336561116     clicks\n",
       "10285560       199999       1138833  1659336575075     clicks\n",
       "\n",
       "[10285561 rows x 4 columns]"
      ]
     },
     "metadata": {},
     "output_type": "display_data"
    }
   ],
   "source": [
    "display(train)"
   ]
  },
  {
   "cell_type": "code",
   "execution_count": 111,
   "id": "e56d3902",
   "metadata": {},
   "outputs": [
    {
     "data": {
      "text/html": [
       "<div>\n",
       "<style scoped>\n",
       "    .dataframe tbody tr th:only-of-type {\n",
       "        vertical-align: middle;\n",
       "    }\n",
       "\n",
       "    .dataframe tbody tr th {\n",
       "        vertical-align: top;\n",
       "    }\n",
       "\n",
       "    .dataframe thead th {\n",
       "        text-align: right;\n",
       "    }\n",
       "</style>\n",
       "<table border=\"1\" class=\"dataframe\">\n",
       "  <thead>\n",
       "    <tr style=\"text-align: right;\">\n",
       "      <th></th>\n",
       "      <th>customer_id</th>\n",
       "      <th>product_code</th>\n",
       "      <th>time_stamp</th>\n",
       "      <th>event_type</th>\n",
       "    </tr>\n",
       "  </thead>\n",
       "  <tbody>\n",
       "    <tr>\n",
       "      <th>0</th>\n",
       "      <td>0</td>\n",
       "      <td>1517085</td>\n",
       "      <td>2022-07-31 22:00:00.025</td>\n",
       "      <td>clicks</td>\n",
       "    </tr>\n",
       "    <tr>\n",
       "      <th>1</th>\n",
       "      <td>0</td>\n",
       "      <td>1563459</td>\n",
       "      <td>2022-07-31 22:01:44.511</td>\n",
       "      <td>clicks</td>\n",
       "    </tr>\n",
       "    <tr>\n",
       "      <th>2</th>\n",
       "      <td>0</td>\n",
       "      <td>1309446</td>\n",
       "      <td>2022-08-01 15:23:59.426</td>\n",
       "      <td>clicks</td>\n",
       "    </tr>\n",
       "    <tr>\n",
       "      <th>3</th>\n",
       "      <td>0</td>\n",
       "      <td>16246</td>\n",
       "      <td>2022-08-01 15:28:39.997</td>\n",
       "      <td>clicks</td>\n",
       "    </tr>\n",
       "    <tr>\n",
       "      <th>4</th>\n",
       "      <td>0</td>\n",
       "      <td>1781822</td>\n",
       "      <td>2022-08-01 15:31:11.344</td>\n",
       "      <td>clicks</td>\n",
       "    </tr>\n",
       "    <tr>\n",
       "      <th>...</th>\n",
       "      <td>...</td>\n",
       "      <td>...</td>\n",
       "      <td>...</td>\n",
       "      <td>...</td>\n",
       "    </tr>\n",
       "    <tr>\n",
       "      <th>10285556</th>\n",
       "      <td>199999</td>\n",
       "      <td>928064</td>\n",
       "      <td>2022-08-01 06:46:48.967</td>\n",
       "      <td>clicks</td>\n",
       "    </tr>\n",
       "    <tr>\n",
       "      <th>10285557</th>\n",
       "      <td>199999</td>\n",
       "      <td>849970</td>\n",
       "      <td>2022-08-01 06:47:29.078</td>\n",
       "      <td>clicks</td>\n",
       "    </tr>\n",
       "    <tr>\n",
       "      <th>10285558</th>\n",
       "      <td>199999</td>\n",
       "      <td>1052480</td>\n",
       "      <td>2022-08-01 06:49:07.035</td>\n",
       "      <td>clicks</td>\n",
       "    </tr>\n",
       "    <tr>\n",
       "      <th>10285559</th>\n",
       "      <td>199999</td>\n",
       "      <td>487255</td>\n",
       "      <td>2022-08-01 06:49:21.116</td>\n",
       "      <td>clicks</td>\n",
       "    </tr>\n",
       "    <tr>\n",
       "      <th>10285560</th>\n",
       "      <td>199999</td>\n",
       "      <td>1138833</td>\n",
       "      <td>2022-08-01 06:49:35.075</td>\n",
       "      <td>clicks</td>\n",
       "    </tr>\n",
       "  </tbody>\n",
       "</table>\n",
       "<p>10285561 rows × 4 columns</p>\n",
       "</div>"
      ],
      "text/plain": [
       "          customer_id  product_code              time_stamp event_type\n",
       "0                   0       1517085 2022-07-31 22:00:00.025     clicks\n",
       "1                   0       1563459 2022-07-31 22:01:44.511     clicks\n",
       "2                   0       1309446 2022-08-01 15:23:59.426     clicks\n",
       "3                   0         16246 2022-08-01 15:28:39.997     clicks\n",
       "4                   0       1781822 2022-08-01 15:31:11.344     clicks\n",
       "...               ...           ...                     ...        ...\n",
       "10285556       199999        928064 2022-08-01 06:46:48.967     clicks\n",
       "10285557       199999        849970 2022-08-01 06:47:29.078     clicks\n",
       "10285558       199999       1052480 2022-08-01 06:49:07.035     clicks\n",
       "10285559       199999        487255 2022-08-01 06:49:21.116     clicks\n",
       "10285560       199999       1138833 2022-08-01 06:49:35.075     clicks\n",
       "\n",
       "[10285561 rows x 4 columns]"
      ]
     },
     "metadata": {},
     "output_type": "display_data"
    }
   ],
   "source": [
    "train[\"time_stamp\"] = pd.to_datetime(train[\"time_stamp\"], unit=\"ms\")\n",
    "display(train)"
   ]
  },
  {
   "cell_type": "markdown",
   "id": "0a5e1cb7",
   "metadata": {},
   "source": [
    "### Customer session temporal visualisation (randomly selected)"
   ]
  },
  {
   "cell_type": "code",
   "execution_count": 112,
   "id": "4ce3061b",
   "metadata": {},
   "outputs": [
    {
     "data": {
      "image/png": "[encoded data removed]",
      "text/plain": [
       "<Figure size 1080x360 with 1 Axes>"
      ]
     },
     "metadata": {
      "needs_background": "light"
     },
     "output_type": "display_data"
    },
    {
     "data": {
      "image/png": "[encoded data removed]",
      "text/plain": [
       "<Figure size 1080x360 with 1 Axes>"
      ]
     },
     "metadata": {
      "needs_background": "light"
     },
     "output_type": "display_data"
    },
    {
     "data": {
      "image/png": "[encoded data removed]",
      "text/plain": [
       "<Figure size 1080x360 with 1 Axes>"
      ]
     },
     "metadata": {
      "needs_background": "light"
     },
     "output_type": "display_data"
    },
    {
     "data": {
      "image/png": "[encoded data removed]",
      "text/plain": [
       "<Figure size 1080x360 with 1 Axes>"
      ]
     },
     "metadata": {
      "needs_background": "light"
     },
     "output_type": "display_data"
    },
    {
     "data": {
      "image/png": "[encoded data removed]",
      "text/plain": [
       "<Figure size 1080x360 with 1 Axes>"
      ]
     },
     "metadata": {
      "needs_background": "light"
     },
     "output_type": "display_data"
    },
    {
     "data": {
      "image/png": "[encoded data removed]",
      "text/plain": [
       "<Figure size 1080x360 with 1 Axes>"
      ]
     },
     "metadata": {
      "needs_background": "light"
     },
     "output_type": "display_data"
    },
    {
     "data": {
      "image/png": "[encoded data removed]",
      "text/plain": [
       "<Figure size 1080x360 with 1 Axes>"
      ]
     },
     "metadata": {
      "needs_background": "light"
     },
     "output_type": "display_data"
    },
    {
     "data": {
      "image/png": "[encoded data removed]",
      "text/plain": [
       "<Figure size 1080x360 with 1 Axes>"
      ]
     },
     "metadata": {
      "needs_background": "light"
     },
     "output_type": "display_data"
    },
    {
     "data": {
      "image/png": "[encoded data removed]",
      "text/plain": [
       "<Figure size 1080x360 with 1 Axes>"
      ]
     },
     "metadata": {
      "needs_background": "light"
     },
     "output_type": "display_data"
    },
    {
     "data": {
      "image/png": "[encoded data removed]",
      "text/plain": [
       "<Figure size 1080x360 with 1 Axes>"
      ]
     },
     "metadata": {
      "needs_background": "light"
     },
     "output_type": "display_data"
    }
   ],
   "source": [
    "for customer in random.sample(range(200000), 10):\n",
    "    customer_df = train[train[\"customer_id\"] == customer]\n",
    "    customer_df = customer_df.sort_values(by=\"time_stamp\")\n",
    "    fig, ax = plt.subplots(figsize=(15, 5))\n",
    "    ax.set_title(\"Customer Session Overview\")\n",
    "    sns.scatterplot(\n",
    "        x=\"time_stamp\", y=\"event_type\", data=customer_df, hue=\"event_type\", ax=ax\n",
    "    )\n",
    "    plt.show()"
   ]
  },
  {
   "cell_type": "markdown",
   "id": "d1dec348",
   "metadata": {},
   "source": [
    "### Event dependency percentages\n",
    "\n",
    "- In what fraction of instances an order event happens after add to cart (0.63%)\n",
    "- In what fraction of instances an add to cart event occurs after a click event (5.89%)\n",
    "- In what fraction of instances a click event occurs after a click event (83.64%)\n",
    "\n",
    "Note: these percentages are calculated across the entire dataset and does not take into consideration a user session. "
   ]
  },
  {
   "cell_type": "markdown",
   "id": "c14f3c57",
   "metadata": {},
   "source": [
    "### Order after add to cart"
   ]
  },
  {
   "cell_type": "code",
   "execution_count": 124,
   "id": "4389903d",
   "metadata": {},
   "outputs": [
    {
     "data": {
      "text/plain": [
       "0    10220254\n",
       "1       65307\n",
       "Name: order_after_cart, dtype: int64"
      ]
     },
     "execution_count": 124,
     "metadata": {},
     "output_type": "execute_result"
    }
   ],
   "source": [
    "### Percentage of orders occuring after add to cart events\n",
    "train[\"order\"] = train[\"event_type\"].apply(lambda x: 1 if x == \"orders\" else 0)\n",
    "train[\"add_to_cart\"] = train[\"event_type\"].apply(lambda x: 1 if x == \"carts\" else 0)\n",
    "train[\"order_after_cart\"] = train[\"order\"].shift(-1) + train[\"add_to_cart\"]\n",
    "train[\"order_after_cart\"] = train[\"order_after_cart\"].apply(\n",
    "    lambda x: 1 if x == 2 else 0\n",
    ")"
   ]
  },
  {
   "cell_type": "code",
   "execution_count": 128,
   "id": "b8cc4e0f",
   "metadata": {},
   "outputs": [
    {
     "name": "stdout",
     "output_type": "stream",
     "text": [
      "Percentage of orders occuring after add to cart events: 0.63%\n"
     ]
    }
   ],
   "source": [
    "perc = train[\"order_after_cart\"].value_counts(normalize=True)[1]\n",
    "\n",
    "print(f\"Percentage of orders occuring after add to cart events: {perc:.2%}\")"
   ]
  },
  {
   "cell_type": "markdown",
   "id": "0b520810",
   "metadata": {},
   "source": [
    "### Add to cart after click"
   ]
  },
  {
   "cell_type": "code",
   "execution_count": 130,
   "id": "f4e10f60",
   "metadata": {},
   "outputs": [],
   "source": [
    "# Percentage of add_to_cart events occuring after click events\n",
    "train[\"click\"] = train[\"event_type\"].apply(lambda x: 1 if x == \"clicks\" else 0)\n",
    "train[\"cart_after_click\"] = train[\"click\"].shift(-1) + train[\"add_to_cart\"]\n",
    "train[\"cart_after_click\"] = train[\"cart_after_click\"].apply(\n",
    "    lambda x: 1 if x == 2 else 0\n",
    ")"
   ]
  },
  {
   "cell_type": "code",
   "execution_count": 131,
   "id": "bd813788",
   "metadata": {},
   "outputs": [
    {
     "name": "stdout",
     "output_type": "stream",
     "text": [
      "Percentage of add_to_cart events occuring after click events: 5.89%\n"
     ]
    }
   ],
   "source": [
    "perc = train[\"cart_after_click\"].value_counts(normalize=True)[1]\n",
    "\n",
    "print(f\"Percentage of add_to_cart events occuring after click events: {perc:.2%}\")"
   ]
  },
  {
   "cell_type": "markdown",
   "id": "cce36b65",
   "metadata": {},
   "source": [
    "### Click after click"
   ]
  },
  {
   "cell_type": "code",
   "execution_count": 133,
   "id": "71d47202",
   "metadata": {},
   "outputs": [],
   "source": [
    "# Percentage of click events occuring after click events\n",
    "train[\"click_after_click\"] = train[\"click\"].shift(-1) + train[\"click\"]\n",
    "train[\"click_after_click\"] = train[\"click_after_click\"].apply(\n",
    "    lambda x: 1 if x == 2 else 0\n",
    ")"
   ]
  },
  {
   "cell_type": "code",
   "execution_count": 134,
   "id": "baa60809",
   "metadata": {},
   "outputs": [
    {
     "name": "stdout",
     "output_type": "stream",
     "text": [
      "Percentage of click events occuring after click events: 83.64%\n"
     ]
    }
   ],
   "source": [
    "perc = train[\"click_after_click\"].value_counts(normalize=True)[1]\n",
    "\n",
    "print(f\"Percentage of click events occuring after click events: {perc:.2%}\")"
   ]
  },
  {
   "cell_type": "code",
   "execution_count": 103,
   "id": "3ec3195d",
   "metadata": {},
   "outputs": [
    {
     "data": {
      "text/html": [
       "<div>\n",
       "<style scoped>\n",
       "    .dataframe tbody tr th:only-of-type {\n",
       "        vertical-align: middle;\n",
       "    }\n",
       "\n",
       "    .dataframe tbody tr th {\n",
       "        vertical-align: top;\n",
       "    }\n",
       "\n",
       "    .dataframe thead th {\n",
       "        text-align: right;\n",
       "    }\n",
       "</style>\n",
       "<table border=\"1\" class=\"dataframe\">\n",
       "  <thead>\n",
       "    <tr style=\"text-align: right;\">\n",
       "      <th></th>\n",
       "      <th>customer_id</th>\n",
       "      <th>product_code</th>\n",
       "      <th>time_stamp</th>\n",
       "      <th>event_type</th>\n",
       "      <th>train_stamp_num</th>\n",
       "      <th>time_stamp_num</th>\n",
       "      <th>order_after_cart</th>\n",
       "      <th>cart_after_order</th>\n",
       "    </tr>\n",
       "  </thead>\n",
       "  <tbody>\n",
       "    <tr>\n",
       "      <th>0</th>\n",
       "      <td>0</td>\n",
       "      <td>1517085</td>\n",
       "      <td>2022-07-31 22:00:00.025</td>\n",
       "      <td>clicks</td>\n",
       "      <td>19204.916667</td>\n",
       "      <td>19204.916667</td>\n",
       "      <td>0</td>\n",
       "      <td>False</td>\n",
       "    </tr>\n",
       "    <tr>\n",
       "      <th>1</th>\n",
       "      <td>0</td>\n",
       "      <td>1563459</td>\n",
       "      <td>2022-07-31 22:01:44.511</td>\n",
       "      <td>clicks</td>\n",
       "      <td>19204.917876</td>\n",
       "      <td>19204.917876</td>\n",
       "      <td>0</td>\n",
       "      <td>False</td>\n",
       "    </tr>\n",
       "    <tr>\n",
       "      <th>2</th>\n",
       "      <td>0</td>\n",
       "      <td>1309446</td>\n",
       "      <td>2022-08-01 15:23:59.426</td>\n",
       "      <td>clicks</td>\n",
       "      <td>19205.641660</td>\n",
       "      <td>19205.641660</td>\n",
       "      <td>0</td>\n",
       "      <td>False</td>\n",
       "    </tr>\n",
       "    <tr>\n",
       "      <th>3</th>\n",
       "      <td>0</td>\n",
       "      <td>16246</td>\n",
       "      <td>2022-08-01 15:28:39.997</td>\n",
       "      <td>clicks</td>\n",
       "      <td>19205.644907</td>\n",
       "      <td>19205.644907</td>\n",
       "      <td>0</td>\n",
       "      <td>False</td>\n",
       "    </tr>\n",
       "    <tr>\n",
       "      <th>4</th>\n",
       "      <td>0</td>\n",
       "      <td>1781822</td>\n",
       "      <td>2022-08-01 15:31:11.344</td>\n",
       "      <td>clicks</td>\n",
       "      <td>19205.646659</td>\n",
       "      <td>19205.646659</td>\n",
       "      <td>0</td>\n",
       "      <td>False</td>\n",
       "    </tr>\n",
       "    <tr>\n",
       "      <th>...</th>\n",
       "      <td>...</td>\n",
       "      <td>...</td>\n",
       "      <td>...</td>\n",
       "      <td>...</td>\n",
       "      <td>...</td>\n",
       "      <td>...</td>\n",
       "      <td>...</td>\n",
       "      <td>...</td>\n",
       "    </tr>\n",
       "    <tr>\n",
       "      <th>10285556</th>\n",
       "      <td>199999</td>\n",
       "      <td>928064</td>\n",
       "      <td>2022-08-01 06:46:48.967</td>\n",
       "      <td>clicks</td>\n",
       "      <td>19205.282511</td>\n",
       "      <td>19205.282511</td>\n",
       "      <td>0</td>\n",
       "      <td>False</td>\n",
       "    </tr>\n",
       "    <tr>\n",
       "      <th>10285557</th>\n",
       "      <td>199999</td>\n",
       "      <td>849970</td>\n",
       "      <td>2022-08-01 06:47:29.078</td>\n",
       "      <td>clicks</td>\n",
       "      <td>19205.282975</td>\n",
       "      <td>19205.282975</td>\n",
       "      <td>0</td>\n",
       "      <td>False</td>\n",
       "    </tr>\n",
       "    <tr>\n",
       "      <th>10285558</th>\n",
       "      <td>199999</td>\n",
       "      <td>1052480</td>\n",
       "      <td>2022-08-01 06:49:07.035</td>\n",
       "      <td>clicks</td>\n",
       "      <td>19205.284109</td>\n",
       "      <td>19205.284109</td>\n",
       "      <td>0</td>\n",
       "      <td>False</td>\n",
       "    </tr>\n",
       "    <tr>\n",
       "      <th>10285559</th>\n",
       "      <td>199999</td>\n",
       "      <td>487255</td>\n",
       "      <td>2022-08-01 06:49:21.116</td>\n",
       "      <td>clicks</td>\n",
       "      <td>19205.284272</td>\n",
       "      <td>19205.284272</td>\n",
       "      <td>0</td>\n",
       "      <td>False</td>\n",
       "    </tr>\n",
       "    <tr>\n",
       "      <th>10285560</th>\n",
       "      <td>199999</td>\n",
       "      <td>1138833</td>\n",
       "      <td>2022-08-01 06:49:35.075</td>\n",
       "      <td>clicks</td>\n",
       "      <td>19205.284434</td>\n",
       "      <td>19205.284434</td>\n",
       "      <td>0</td>\n",
       "      <td>False</td>\n",
       "    </tr>\n",
       "  </tbody>\n",
       "</table>\n",
       "<p>10285561 rows × 8 columns</p>\n",
       "</div>"
      ],
      "text/plain": [
       "          customer_id  product_code              time_stamp event_type  \\\n",
       "0                   0       1517085 2022-07-31 22:00:00.025     clicks   \n",
       "1                   0       1563459 2022-07-31 22:01:44.511     clicks   \n",
       "2                   0       1309446 2022-08-01 15:23:59.426     clicks   \n",
       "3                   0         16246 2022-08-01 15:28:39.997     clicks   \n",
       "4                   0       1781822 2022-08-01 15:31:11.344     clicks   \n",
       "...               ...           ...                     ...        ...   \n",
       "10285556       199999        928064 2022-08-01 06:46:48.967     clicks   \n",
       "10285557       199999        849970 2022-08-01 06:47:29.078     clicks   \n",
       "10285558       199999       1052480 2022-08-01 06:49:07.035     clicks   \n",
       "10285559       199999        487255 2022-08-01 06:49:21.116     clicks   \n",
       "10285560       199999       1138833 2022-08-01 06:49:35.075     clicks   \n",
       "\n",
       "          train_stamp_num  time_stamp_num  order_after_cart  cart_after_order  \n",
       "0            19204.916667    19204.916667                 0             False  \n",
       "1            19204.917876    19204.917876                 0             False  \n",
       "2            19205.641660    19205.641660                 0             False  \n",
       "3            19205.644907    19205.644907                 0             False  \n",
       "4            19205.646659    19205.646659                 0             False  \n",
       "...                   ...             ...               ...               ...  \n",
       "10285556     19205.282511    19205.282511                 0             False  \n",
       "10285557     19205.282975    19205.282975                 0             False  \n",
       "10285558     19205.284109    19205.284109                 0             False  \n",
       "10285559     19205.284272    19205.284272                 0             False  \n",
       "10285560     19205.284434    19205.284434                 0             False  \n",
       "\n",
       "[10285561 rows x 8 columns]"
      ]
     },
     "metadata": {},
     "output_type": "display_data"
    }
   ],
   "source": [
    "display(train)"
   ]
  },
  {
   "cell_type": "code",
   "execution_count": 10,
   "id": "07e6146c",
   "metadata": {},
   "outputs": [],
   "source": [
    "grouped_train = train.groupby(\"customer_id\").count()"
   ]
  },
  {
   "cell_type": "code",
   "execution_count": 11,
   "id": "b6ddd061",
   "metadata": {},
   "outputs": [
    {
     "data": {
      "text/html": [
       "<div>\n",
       "<style scoped>\n",
       "    .dataframe tbody tr th:only-of-type {\n",
       "        vertical-align: middle;\n",
       "    }\n",
       "\n",
       "    .dataframe tbody tr th {\n",
       "        vertical-align: top;\n",
       "    }\n",
       "\n",
       "    .dataframe thead th {\n",
       "        text-align: right;\n",
       "    }\n",
       "</style>\n",
       "<table border=\"1\" class=\"dataframe\">\n",
       "  <thead>\n",
       "    <tr style=\"text-align: right;\">\n",
       "      <th></th>\n",
       "      <th>product_code</th>\n",
       "      <th>time_stamp</th>\n",
       "      <th>event_type</th>\n",
       "    </tr>\n",
       "    <tr>\n",
       "      <th>customer_id</th>\n",
       "      <th></th>\n",
       "      <th></th>\n",
       "      <th></th>\n",
       "    </tr>\n",
       "  </thead>\n",
       "  <tbody>\n",
       "    <tr>\n",
       "      <th>0</th>\n",
       "      <td>276</td>\n",
       "      <td>276</td>\n",
       "      <td>276</td>\n",
       "    </tr>\n",
       "    <tr>\n",
       "      <th>1</th>\n",
       "      <td>32</td>\n",
       "      <td>32</td>\n",
       "      <td>32</td>\n",
       "    </tr>\n",
       "    <tr>\n",
       "      <th>2</th>\n",
       "      <td>33</td>\n",
       "      <td>33</td>\n",
       "      <td>33</td>\n",
       "    </tr>\n",
       "    <tr>\n",
       "      <th>3</th>\n",
       "      <td>226</td>\n",
       "      <td>226</td>\n",
       "      <td>226</td>\n",
       "    </tr>\n",
       "    <tr>\n",
       "      <th>4</th>\n",
       "      <td>19</td>\n",
       "      <td>19</td>\n",
       "      <td>19</td>\n",
       "    </tr>\n",
       "    <tr>\n",
       "      <th>...</th>\n",
       "      <td>...</td>\n",
       "      <td>...</td>\n",
       "      <td>...</td>\n",
       "    </tr>\n",
       "    <tr>\n",
       "      <th>199995</th>\n",
       "      <td>17</td>\n",
       "      <td>17</td>\n",
       "      <td>17</td>\n",
       "    </tr>\n",
       "    <tr>\n",
       "      <th>199996</th>\n",
       "      <td>25</td>\n",
       "      <td>25</td>\n",
       "      <td>25</td>\n",
       "    </tr>\n",
       "    <tr>\n",
       "      <th>199997</th>\n",
       "      <td>154</td>\n",
       "      <td>154</td>\n",
       "      <td>154</td>\n",
       "    </tr>\n",
       "    <tr>\n",
       "      <th>199998</th>\n",
       "      <td>2</td>\n",
       "      <td>2</td>\n",
       "      <td>2</td>\n",
       "    </tr>\n",
       "    <tr>\n",
       "      <th>199999</th>\n",
       "      <td>9</td>\n",
       "      <td>9</td>\n",
       "      <td>9</td>\n",
       "    </tr>\n",
       "  </tbody>\n",
       "</table>\n",
       "<p>200000 rows × 3 columns</p>\n",
       "</div>"
      ],
      "text/plain": [
       "             product_code  time_stamp  event_type\n",
       "customer_id                                      \n",
       "0                     276         276         276\n",
       "1                      32          32          32\n",
       "2                      33          33          33\n",
       "3                     226         226         226\n",
       "4                      19          19          19\n",
       "...                   ...         ...         ...\n",
       "199995                 17          17          17\n",
       "199996                 25          25          25\n",
       "199997                154         154         154\n",
       "199998                  2           2           2\n",
       "199999                  9           9           9\n",
       "\n",
       "[200000 rows x 3 columns]"
      ]
     },
     "metadata": {},
     "output_type": "display_data"
    }
   ],
   "source": [
    "display(grouped_train)"
   ]
  },
  {
   "cell_type": "markdown",
   "id": "ab26f3ea",
   "metadata": {},
   "source": [
    "### Per customer statistics\n",
    "\n",
    "From the selected subset of 200k customers, on average we see a user clicks, add to cart or order around 51 products with a standard deviation of 75. Maximum number of events in a customer session is 495 and minimum session is 2, indicating potentially a long tail of customer sessions with relatively large number of events. "
   ]
  },
  {
   "cell_type": "code",
   "execution_count": 15,
   "id": "9253e0f2",
   "metadata": {},
   "outputs": [
    {
     "data": {
      "text/html": [
       "<div>\n",
       "<style scoped>\n",
       "    .dataframe tbody tr th:only-of-type {\n",
       "        vertical-align: middle;\n",
       "    }\n",
       "\n",
       "    .dataframe tbody tr th {\n",
       "        vertical-align: top;\n",
       "    }\n",
       "\n",
       "    .dataframe thead th {\n",
       "        text-align: right;\n",
       "    }\n",
       "</style>\n",
       "<table border=\"1\" class=\"dataframe\">\n",
       "  <thead>\n",
       "    <tr style=\"text-align: right;\">\n",
       "      <th></th>\n",
       "      <th>product_code</th>\n",
       "      <th>time_stamp</th>\n",
       "      <th>event_type</th>\n",
       "    </tr>\n",
       "  </thead>\n",
       "  <tbody>\n",
       "    <tr>\n",
       "      <th>count</th>\n",
       "      <td>200000.000000</td>\n",
       "      <td>200000.000000</td>\n",
       "      <td>200000.000000</td>\n",
       "    </tr>\n",
       "    <tr>\n",
       "      <th>mean</th>\n",
       "      <td>51.427805</td>\n",
       "      <td>51.427805</td>\n",
       "      <td>51.427805</td>\n",
       "    </tr>\n",
       "    <tr>\n",
       "      <th>std</th>\n",
       "      <td>75.456583</td>\n",
       "      <td>75.456583</td>\n",
       "      <td>75.456583</td>\n",
       "    </tr>\n",
       "    <tr>\n",
       "      <th>min</th>\n",
       "      <td>2.000000</td>\n",
       "      <td>2.000000</td>\n",
       "      <td>2.000000</td>\n",
       "    </tr>\n",
       "    <tr>\n",
       "      <th>25%</th>\n",
       "      <td>6.000000</td>\n",
       "      <td>6.000000</td>\n",
       "      <td>6.000000</td>\n",
       "    </tr>\n",
       "    <tr>\n",
       "      <th>50%</th>\n",
       "      <td>19.000000</td>\n",
       "      <td>19.000000</td>\n",
       "      <td>19.000000</td>\n",
       "    </tr>\n",
       "    <tr>\n",
       "      <th>75%</th>\n",
       "      <td>62.000000</td>\n",
       "      <td>62.000000</td>\n",
       "      <td>62.000000</td>\n",
       "    </tr>\n",
       "    <tr>\n",
       "      <th>max</th>\n",
       "      <td>495.000000</td>\n",
       "      <td>495.000000</td>\n",
       "      <td>495.000000</td>\n",
       "    </tr>\n",
       "  </tbody>\n",
       "</table>\n",
       "</div>"
      ],
      "text/plain": [
       "        product_code     time_stamp     event_type\n",
       "count  200000.000000  200000.000000  200000.000000\n",
       "mean       51.427805      51.427805      51.427805\n",
       "std        75.456583      75.456583      75.456583\n",
       "min         2.000000       2.000000       2.000000\n",
       "25%         6.000000       6.000000       6.000000\n",
       "50%        19.000000      19.000000      19.000000\n",
       "75%        62.000000      62.000000      62.000000\n",
       "max       495.000000     495.000000     495.000000"
      ]
     },
     "execution_count": 15,
     "metadata": {},
     "output_type": "execute_result"
    }
   ],
   "source": [
    "grouped_train.describe()"
   ]
  },
  {
   "cell_type": "markdown",
   "id": "2c8a5da5",
   "metadata": {},
   "source": [
    "### Distribution of number of products viewed by customers"
   ]
  },
  {
   "cell_type": "code",
   "execution_count": 20,
   "id": "a93af893",
   "metadata": {},
   "outputs": [
    {
     "data": {
      "image/png": "[encoded data removed]",
      "text/plain": [
       "<Figure size 720x360 with 1 Axes>"
      ]
     },
     "metadata": {
      "needs_background": "light"
     },
     "output_type": "display_data"
    }
   ],
   "source": [
    "plt.figure(figsize=(10, 5))\n",
    "sns.distplot(grouped_train[\"product_code\"], kde=False, bins=100)\n",
    "plt.title(\"Distribution of number of products viewed by customer\")\n",
    "plt.xlabel(\"Number of products viewed\")\n",
    "plt.ylabel(\"Number of customers\")\n",
    "plt.show()"
   ]
  },
  {
   "cell_type": "markdown",
   "id": "04a3b38c",
   "metadata": {},
   "source": [
    "### Event distribution across entire userbase\n",
    "\n",
    "Majority of the events in the sampled data are clicks, followed by addition to carts and orders. It is evident that a very small chunk of customers sessions translate to a conversion. At this point it will be interesting to understand the relationship b/w length of the session and the conversion rate."
   ]
  },
  {
   "cell_type": "code",
   "execution_count": 71,
   "id": "ff650b54",
   "metadata": {},
   "outputs": [
    {
     "data": {
      "image/png": "[encoded data removed]",
      "text/plain": [
       "<Figure size 720x360 with 1 Axes>"
      ]
     },
     "metadata": {
      "needs_background": "light"
     },
     "output_type": "display_data"
    }
   ],
   "source": [
    "plt.figure(figsize=(10, 5))\n",
    "sns.histplot(train[\"event_type\"], stat=\"percent\", kde=False, bins=100)\n",
    "plt.title(\"Distribution of event types\")\n",
    "plt.xlabel(\"Event type\")\n",
    "plt.ylabel(\"Number of events\")\n",
    "plt.show()"
   ]
  },
  {
   "cell_type": "code",
   "execution_count": 35,
   "id": "18aabe98",
   "metadata": {},
   "outputs": [],
   "source": [
    "grouped_train_orders = (\n",
    "    train[train[\"event_type\"] == \"orders\"]\n",
    "    .groupby(\"customer_id\")\n",
    "    .count()\n",
    "    .join(grouped_train, lsuffix=\"_orders\", rsuffix=\"_views\")\n",
    ")\n",
    "grouped_train_orders = grouped_train_orders.drop(\n",
    "    [\"product_code_views\", \"time_stamp_views\"], axis=1\n",
    ").rename(columns={\"event_type_views\": \"event_count\"})"
   ]
  },
  {
   "cell_type": "code",
   "execution_count": 36,
   "id": "54c4a438",
   "metadata": {},
   "outputs": [
    {
     "data": {
      "text/html": [
       "<div>\n",
       "<style scoped>\n",
       "    .dataframe tbody tr th:only-of-type {\n",
       "        vertical-align: middle;\n",
       "    }\n",
       "\n",
       "    .dataframe tbody tr th {\n",
       "        vertical-align: top;\n",
       "    }\n",
       "\n",
       "    .dataframe thead th {\n",
       "        text-align: right;\n",
       "    }\n",
       "</style>\n",
       "<table border=\"1\" class=\"dataframe\">\n",
       "  <thead>\n",
       "    <tr style=\"text-align: right;\">\n",
       "      <th></th>\n",
       "      <th>product_code_orders</th>\n",
       "      <th>time_stamp_orders</th>\n",
       "      <th>event_type_orders</th>\n",
       "      <th>event_count</th>\n",
       "    </tr>\n",
       "    <tr>\n",
       "      <th>customer_id</th>\n",
       "      <th></th>\n",
       "      <th></th>\n",
       "      <th></th>\n",
       "      <th></th>\n",
       "    </tr>\n",
       "  </thead>\n",
       "  <tbody>\n",
       "    <tr>\n",
       "      <th>0</th>\n",
       "      <td>4</td>\n",
       "      <td>4</td>\n",
       "      <td>4</td>\n",
       "      <td>276</td>\n",
       "    </tr>\n",
       "    <tr>\n",
       "      <th>3</th>\n",
       "      <td>5</td>\n",
       "      <td>5</td>\n",
       "      <td>5</td>\n",
       "      <td>226</td>\n",
       "    </tr>\n",
       "    <tr>\n",
       "      <th>4</th>\n",
       "      <td>1</td>\n",
       "      <td>1</td>\n",
       "      <td>1</td>\n",
       "      <td>19</td>\n",
       "    </tr>\n",
       "    <tr>\n",
       "      <th>11</th>\n",
       "      <td>2</td>\n",
       "      <td>2</td>\n",
       "      <td>2</td>\n",
       "      <td>93</td>\n",
       "    </tr>\n",
       "    <tr>\n",
       "      <th>12</th>\n",
       "      <td>1</td>\n",
       "      <td>1</td>\n",
       "      <td>1</td>\n",
       "      <td>5</td>\n",
       "    </tr>\n",
       "    <tr>\n",
       "      <th>...</th>\n",
       "      <td>...</td>\n",
       "      <td>...</td>\n",
       "      <td>...</td>\n",
       "      <td>...</td>\n",
       "    </tr>\n",
       "    <tr>\n",
       "      <th>199980</th>\n",
       "      <td>1</td>\n",
       "      <td>1</td>\n",
       "      <td>1</td>\n",
       "      <td>32</td>\n",
       "    </tr>\n",
       "    <tr>\n",
       "      <th>199985</th>\n",
       "      <td>4</td>\n",
       "      <td>4</td>\n",
       "      <td>4</td>\n",
       "      <td>37</td>\n",
       "    </tr>\n",
       "    <tr>\n",
       "      <th>199991</th>\n",
       "      <td>2</td>\n",
       "      <td>2</td>\n",
       "      <td>2</td>\n",
       "      <td>27</td>\n",
       "    </tr>\n",
       "    <tr>\n",
       "      <th>199993</th>\n",
       "      <td>3</td>\n",
       "      <td>3</td>\n",
       "      <td>3</td>\n",
       "      <td>31</td>\n",
       "    </tr>\n",
       "    <tr>\n",
       "      <th>199997</th>\n",
       "      <td>7</td>\n",
       "      <td>7</td>\n",
       "      <td>7</td>\n",
       "      <td>154</td>\n",
       "    </tr>\n",
       "  </tbody>\n",
       "</table>\n",
       "<p>50871 rows × 4 columns</p>\n",
       "</div>"
      ],
      "text/plain": [
       "             product_code_orders  time_stamp_orders  event_type_orders  \\\n",
       "customer_id                                                              \n",
       "0                              4                  4                  4   \n",
       "3                              5                  5                  5   \n",
       "4                              1                  1                  1   \n",
       "11                             2                  2                  2   \n",
       "12                             1                  1                  1   \n",
       "...                          ...                ...                ...   \n",
       "199980                         1                  1                  1   \n",
       "199985                         4                  4                  4   \n",
       "199991                         2                  2                  2   \n",
       "199993                         3                  3                  3   \n",
       "199997                         7                  7                  7   \n",
       "\n",
       "             event_count  \n",
       "customer_id               \n",
       "0                    276  \n",
       "3                    226  \n",
       "4                     19  \n",
       "11                    93  \n",
       "12                     5  \n",
       "...                  ...  \n",
       "199980                32  \n",
       "199985                37  \n",
       "199991                27  \n",
       "199993                31  \n",
       "199997               154  \n",
       "\n",
       "[50871 rows x 4 columns]"
      ]
     },
     "metadata": {},
     "output_type": "display_data"
    }
   ],
   "source": [
    "display(grouped_train_orders)"
   ]
  },
  {
   "cell_type": "markdown",
   "id": "015dacaf",
   "metadata": {},
   "source": [
    "### Number of products viewed vs. number of products ordered\n",
    "\n",
    "There seems to be a slight correlation b/w number of products viewed vs number of products ordered by a customer. "
   ]
  },
  {
   "cell_type": "code",
   "execution_count": 41,
   "id": "9c475178",
   "metadata": {},
   "outputs": [
    {
     "data": {
      "image/png": "[encoded data removed]",
      "text/plain": [
       "<Figure size 720x360 with 1 Axes>"
      ]
     },
     "metadata": {
      "needs_background": "light"
     },
     "output_type": "display_data"
    }
   ],
   "source": [
    "# plot trend between event count and event type orders\n",
    "plt.figure(figsize=(10, 5))\n",
    "sns.scatterplot(\n",
    "    x=grouped_train_orders[\"event_count\"], y=grouped_train_orders[\"product_code_orders\"]\n",
    ")\n",
    "plt.title(\"Distribution of number of products ordered by customer\")\n",
    "plt.xlabel(\"Number of products viewed\")\n",
    "plt.ylabel(\"Number of products ordered\")\n",
    "plt.show()"
   ]
  },
  {
   "cell_type": "code",
   "execution_count": 49,
   "id": "69b883f3",
   "metadata": {},
   "outputs": [
    {
     "data": {
      "text/html": [
       "<div>\n",
       "<style scoped>\n",
       "    .dataframe tbody tr th:only-of-type {\n",
       "        vertical-align: middle;\n",
       "    }\n",
       "\n",
       "    .dataframe tbody tr th {\n",
       "        vertical-align: top;\n",
       "    }\n",
       "\n",
       "    .dataframe thead th {\n",
       "        text-align: right;\n",
       "    }\n",
       "</style>\n",
       "<table border=\"1\" class=\"dataframe\">\n",
       "  <thead>\n",
       "    <tr style=\"text-align: right;\">\n",
       "      <th></th>\n",
       "      <th>product_code_orders</th>\n",
       "      <th>time_stamp_orders</th>\n",
       "      <th>event_type_orders</th>\n",
       "      <th>event_count</th>\n",
       "    </tr>\n",
       "    <tr>\n",
       "      <th>customer_id</th>\n",
       "      <th></th>\n",
       "      <th></th>\n",
       "      <th></th>\n",
       "      <th></th>\n",
       "    </tr>\n",
       "  </thead>\n",
       "  <tbody>\n",
       "    <tr>\n",
       "      <th>0</th>\n",
       "      <td>4</td>\n",
       "      <td>4</td>\n",
       "      <td>4</td>\n",
       "      <td>276</td>\n",
       "    </tr>\n",
       "    <tr>\n",
       "      <th>3</th>\n",
       "      <td>5</td>\n",
       "      <td>5</td>\n",
       "      <td>5</td>\n",
       "      <td>226</td>\n",
       "    </tr>\n",
       "    <tr>\n",
       "      <th>4</th>\n",
       "      <td>1</td>\n",
       "      <td>1</td>\n",
       "      <td>1</td>\n",
       "      <td>19</td>\n",
       "    </tr>\n",
       "    <tr>\n",
       "      <th>11</th>\n",
       "      <td>2</td>\n",
       "      <td>2</td>\n",
       "      <td>2</td>\n",
       "      <td>93</td>\n",
       "    </tr>\n",
       "    <tr>\n",
       "      <th>12</th>\n",
       "      <td>1</td>\n",
       "      <td>1</td>\n",
       "      <td>1</td>\n",
       "      <td>5</td>\n",
       "    </tr>\n",
       "    <tr>\n",
       "      <th>...</th>\n",
       "      <td>...</td>\n",
       "      <td>...</td>\n",
       "      <td>...</td>\n",
       "      <td>...</td>\n",
       "    </tr>\n",
       "    <tr>\n",
       "      <th>199980</th>\n",
       "      <td>1</td>\n",
       "      <td>1</td>\n",
       "      <td>1</td>\n",
       "      <td>32</td>\n",
       "    </tr>\n",
       "    <tr>\n",
       "      <th>199985</th>\n",
       "      <td>4</td>\n",
       "      <td>4</td>\n",
       "      <td>4</td>\n",
       "      <td>37</td>\n",
       "    </tr>\n",
       "    <tr>\n",
       "      <th>199991</th>\n",
       "      <td>2</td>\n",
       "      <td>2</td>\n",
       "      <td>2</td>\n",
       "      <td>27</td>\n",
       "    </tr>\n",
       "    <tr>\n",
       "      <th>199993</th>\n",
       "      <td>3</td>\n",
       "      <td>3</td>\n",
       "      <td>3</td>\n",
       "      <td>31</td>\n",
       "    </tr>\n",
       "    <tr>\n",
       "      <th>199997</th>\n",
       "      <td>7</td>\n",
       "      <td>7</td>\n",
       "      <td>7</td>\n",
       "      <td>154</td>\n",
       "    </tr>\n",
       "  </tbody>\n",
       "</table>\n",
       "<p>50871 rows × 4 columns</p>\n",
       "</div>"
      ],
      "text/plain": [
       "             product_code_orders  time_stamp_orders  event_type_orders  \\\n",
       "customer_id                                                              \n",
       "0                              4                  4                  4   \n",
       "3                              5                  5                  5   \n",
       "4                              1                  1                  1   \n",
       "11                             2                  2                  2   \n",
       "12                             1                  1                  1   \n",
       "...                          ...                ...                ...   \n",
       "199980                         1                  1                  1   \n",
       "199985                         4                  4                  4   \n",
       "199991                         2                  2                  2   \n",
       "199993                         3                  3                  3   \n",
       "199997                         7                  7                  7   \n",
       "\n",
       "             event_count  \n",
       "customer_id               \n",
       "0                    276  \n",
       "3                    226  \n",
       "4                     19  \n",
       "11                    93  \n",
       "12                     5  \n",
       "...                  ...  \n",
       "199980                32  \n",
       "199985                37  \n",
       "199991                27  \n",
       "199993                31  \n",
       "199997               154  \n",
       "\n",
       "[50871 rows x 4 columns]"
      ]
     },
     "metadata": {},
     "output_type": "display_data"
    }
   ],
   "source": [
    "display(grouped_train_orders[grouped_train_orders[\"product_code_orders\"] < 100])"
   ]
  },
  {
   "cell_type": "markdown",
   "id": "9721ae09",
   "metadata": {},
   "source": [
    "### Distribution of number of products ordered by customers"
   ]
  },
  {
   "cell_type": "code",
   "execution_count": 54,
   "id": "47839f11",
   "metadata": {},
   "outputs": [
    {
     "data": {
      "image/png": "[encoded data removed]",
      "text/plain": [
       "<Figure size 720x360 with 1 Axes>"
      ]
     },
     "metadata": {
      "needs_background": "light"
     },
     "output_type": "display_data"
    }
   ],
   "source": [
    "plt.figure(figsize=(10, 5))\n",
    "sns.histplot(\n",
    "    grouped_train_orders[\"product_code_orders\"], stat=\"percent\", kde=False, bins=100\n",
    ")\n",
    "plt.title(\"Distribution of number of products ordered by customer\")\n",
    "plt.xlabel(\"Number of products ordered\")\n",
    "plt.ylabel(\"Number of customers\")\n",
    "plt.show()"
   ]
  },
  {
   "cell_type": "code",
   "execution_count": 55,
   "id": "e4bb5d8d",
   "metadata": {},
   "outputs": [],
   "source": [
    "grouped_train_clicks = (\n",
    "    train[train[\"event_type\"] == \"clicks\"]\n",
    "    .groupby(\"customer_id\")\n",
    "    .count()\n",
    "    .join(grouped_train, lsuffix=\"_clicks\", rsuffix=\"_views\")\n",
    ")\n",
    "grouped_train_clicks = grouped_train_clicks.drop(\n",
    "    [\"product_code_views\", \"time_stamp_views\"], axis=1\n",
    ").rename(columns={\"event_type_views\": \"event_count\"})"
   ]
  },
  {
   "cell_type": "code",
   "execution_count": 56,
   "id": "e62cbda5",
   "metadata": {},
   "outputs": [
    {
     "data": {
      "text/html": [
       "<div>\n",
       "<style scoped>\n",
       "    .dataframe tbody tr th:only-of-type {\n",
       "        vertical-align: middle;\n",
       "    }\n",
       "\n",
       "    .dataframe tbody tr th {\n",
       "        vertical-align: top;\n",
       "    }\n",
       "\n",
       "    .dataframe thead th {\n",
       "        text-align: right;\n",
       "    }\n",
       "</style>\n",
       "<table border=\"1\" class=\"dataframe\">\n",
       "  <thead>\n",
       "    <tr style=\"text-align: right;\">\n",
       "      <th></th>\n",
       "      <th>product_code_clicks</th>\n",
       "      <th>time_stamp_clicks</th>\n",
       "      <th>event_type_clicks</th>\n",
       "      <th>event_count</th>\n",
       "    </tr>\n",
       "    <tr>\n",
       "      <th>customer_id</th>\n",
       "      <th></th>\n",
       "      <th></th>\n",
       "      <th></th>\n",
       "      <th></th>\n",
       "    </tr>\n",
       "  </thead>\n",
       "  <tbody>\n",
       "    <tr>\n",
       "      <th>0</th>\n",
       "      <td>255</td>\n",
       "      <td>255</td>\n",
       "      <td>255</td>\n",
       "      <td>276</td>\n",
       "    </tr>\n",
       "    <tr>\n",
       "      <th>1</th>\n",
       "      <td>24</td>\n",
       "      <td>24</td>\n",
       "      <td>24</td>\n",
       "      <td>32</td>\n",
       "    </tr>\n",
       "    <tr>\n",
       "      <th>2</th>\n",
       "      <td>32</td>\n",
       "      <td>32</td>\n",
       "      <td>32</td>\n",
       "      <td>33</td>\n",
       "    </tr>\n",
       "    <tr>\n",
       "      <th>3</th>\n",
       "      <td>200</td>\n",
       "      <td>200</td>\n",
       "      <td>200</td>\n",
       "      <td>226</td>\n",
       "    </tr>\n",
       "    <tr>\n",
       "      <th>4</th>\n",
       "      <td>15</td>\n",
       "      <td>15</td>\n",
       "      <td>15</td>\n",
       "      <td>19</td>\n",
       "    </tr>\n",
       "    <tr>\n",
       "      <th>...</th>\n",
       "      <td>...</td>\n",
       "      <td>...</td>\n",
       "      <td>...</td>\n",
       "      <td>...</td>\n",
       "    </tr>\n",
       "    <tr>\n",
       "      <th>199995</th>\n",
       "      <td>17</td>\n",
       "      <td>17</td>\n",
       "      <td>17</td>\n",
       "      <td>17</td>\n",
       "    </tr>\n",
       "    <tr>\n",
       "      <th>199996</th>\n",
       "      <td>24</td>\n",
       "      <td>24</td>\n",
       "      <td>24</td>\n",
       "      <td>25</td>\n",
       "    </tr>\n",
       "    <tr>\n",
       "      <th>199997</th>\n",
       "      <td>119</td>\n",
       "      <td>119</td>\n",
       "      <td>119</td>\n",
       "      <td>154</td>\n",
       "    </tr>\n",
       "    <tr>\n",
       "      <th>199998</th>\n",
       "      <td>2</td>\n",
       "      <td>2</td>\n",
       "      <td>2</td>\n",
       "      <td>2</td>\n",
       "    </tr>\n",
       "    <tr>\n",
       "      <th>199999</th>\n",
       "      <td>9</td>\n",
       "      <td>9</td>\n",
       "      <td>9</td>\n",
       "      <td>9</td>\n",
       "    </tr>\n",
       "  </tbody>\n",
       "</table>\n",
       "<p>200000 rows × 4 columns</p>\n",
       "</div>"
      ],
      "text/plain": [
       "             product_code_clicks  time_stamp_clicks  event_type_clicks  \\\n",
       "customer_id                                                              \n",
       "0                            255                255                255   \n",
       "1                             24                 24                 24   \n",
       "2                             32                 32                 32   \n",
       "3                            200                200                200   \n",
       "4                             15                 15                 15   \n",
       "...                          ...                ...                ...   \n",
       "199995                        17                 17                 17   \n",
       "199996                        24                 24                 24   \n",
       "199997                       119                119                119   \n",
       "199998                         2                  2                  2   \n",
       "199999                         9                  9                  9   \n",
       "\n",
       "             event_count  \n",
       "customer_id               \n",
       "0                    276  \n",
       "1                     32  \n",
       "2                     33  \n",
       "3                    226  \n",
       "4                     19  \n",
       "...                  ...  \n",
       "199995                17  \n",
       "199996                25  \n",
       "199997               154  \n",
       "199998                 2  \n",
       "199999                 9  \n",
       "\n",
       "[200000 rows x 4 columns]"
      ]
     },
     "metadata": {},
     "output_type": "display_data"
    }
   ],
   "source": [
    "display(grouped_train_clicks)"
   ]
  },
  {
   "cell_type": "markdown",
   "id": "16deec4c",
   "metadata": {},
   "source": [
    "### Distribution of number of products clicked"
   ]
  },
  {
   "cell_type": "code",
   "execution_count": 59,
   "id": "43625079",
   "metadata": {},
   "outputs": [
    {
     "data": {
      "image/png": "[encoded data removed]",
      "text/plain": [
       "<Figure size 720x360 with 1 Axes>"
      ]
     },
     "metadata": {
      "needs_background": "light"
     },
     "output_type": "display_data"
    }
   ],
   "source": [
    "plt.figure(figsize=(10, 5))\n",
    "sns.histplot(\n",
    "    grouped_train_clicks[\"product_code_clicks\"], stat=\"percent\", kde=False, bins=100\n",
    ")\n",
    "plt.title(\"Distribution of number of products clicked by customer\")\n",
    "plt.xlabel(\"Number of products clicked\")\n",
    "plt.ylabel(\"Number of customers\")\n",
    "plt.show()"
   ]
  },
  {
   "cell_type": "code",
   "execution_count": 61,
   "id": "5d71f0f6",
   "metadata": {},
   "outputs": [],
   "source": [
    "grouped_train_carts = (\n",
    "    train[train[\"event_type\"] == \"carts\"]\n",
    "    .groupby(\"customer_id\")\n",
    "    .count()\n",
    "    .join(grouped_train, lsuffix=\"_carts\", rsuffix=\"_views\")\n",
    ")\n",
    "grouped_train_carts = grouped_train_carts.drop(\n",
    "    [\"product_code_views\", \"time_stamp_views\"], axis=1\n",
    ").rename(columns={\"event_type_views\": \"event_count\"})"
   ]
  },
  {
   "cell_type": "code",
   "execution_count": 62,
   "id": "06b7e13a",
   "metadata": {},
   "outputs": [
    {
     "data": {
      "text/html": [
       "<div>\n",
       "<style scoped>\n",
       "    .dataframe tbody tr th:only-of-type {\n",
       "        vertical-align: middle;\n",
       "    }\n",
       "\n",
       "    .dataframe tbody tr th {\n",
       "        vertical-align: top;\n",
       "    }\n",
       "\n",
       "    .dataframe thead th {\n",
       "        text-align: right;\n",
       "    }\n",
       "</style>\n",
       "<table border=\"1\" class=\"dataframe\">\n",
       "  <thead>\n",
       "    <tr style=\"text-align: right;\">\n",
       "      <th></th>\n",
       "      <th>product_code_carts</th>\n",
       "      <th>time_stamp_carts</th>\n",
       "      <th>event_type_carts</th>\n",
       "      <th>event_count</th>\n",
       "    </tr>\n",
       "    <tr>\n",
       "      <th>customer_id</th>\n",
       "      <th></th>\n",
       "      <th></th>\n",
       "      <th></th>\n",
       "      <th></th>\n",
       "    </tr>\n",
       "  </thead>\n",
       "  <tbody>\n",
       "    <tr>\n",
       "      <th>0</th>\n",
       "      <td>17</td>\n",
       "      <td>17</td>\n",
       "      <td>17</td>\n",
       "      <td>276</td>\n",
       "    </tr>\n",
       "    <tr>\n",
       "      <th>1</th>\n",
       "      <td>8</td>\n",
       "      <td>8</td>\n",
       "      <td>8</td>\n",
       "      <td>32</td>\n",
       "    </tr>\n",
       "    <tr>\n",
       "      <th>2</th>\n",
       "      <td>1</td>\n",
       "      <td>1</td>\n",
       "      <td>1</td>\n",
       "      <td>33</td>\n",
       "    </tr>\n",
       "    <tr>\n",
       "      <th>3</th>\n",
       "      <td>21</td>\n",
       "      <td>21</td>\n",
       "      <td>21</td>\n",
       "      <td>226</td>\n",
       "    </tr>\n",
       "    <tr>\n",
       "      <th>4</th>\n",
       "      <td>3</td>\n",
       "      <td>3</td>\n",
       "      <td>3</td>\n",
       "      <td>19</td>\n",
       "    </tr>\n",
       "    <tr>\n",
       "      <th>...</th>\n",
       "      <td>...</td>\n",
       "      <td>...</td>\n",
       "      <td>...</td>\n",
       "      <td>...</td>\n",
       "    </tr>\n",
       "    <tr>\n",
       "      <th>199991</th>\n",
       "      <td>4</td>\n",
       "      <td>4</td>\n",
       "      <td>4</td>\n",
       "      <td>27</td>\n",
       "    </tr>\n",
       "    <tr>\n",
       "      <th>199992</th>\n",
       "      <td>14</td>\n",
       "      <td>14</td>\n",
       "      <td>14</td>\n",
       "      <td>153</td>\n",
       "    </tr>\n",
       "    <tr>\n",
       "      <th>199993</th>\n",
       "      <td>5</td>\n",
       "      <td>5</td>\n",
       "      <td>5</td>\n",
       "      <td>31</td>\n",
       "    </tr>\n",
       "    <tr>\n",
       "      <th>199996</th>\n",
       "      <td>1</td>\n",
       "      <td>1</td>\n",
       "      <td>1</td>\n",
       "      <td>25</td>\n",
       "    </tr>\n",
       "    <tr>\n",
       "      <th>199997</th>\n",
       "      <td>28</td>\n",
       "      <td>28</td>\n",
       "      <td>28</td>\n",
       "      <td>154</td>\n",
       "    </tr>\n",
       "  </tbody>\n",
       "</table>\n",
       "<p>94561 rows × 4 columns</p>\n",
       "</div>"
      ],
      "text/plain": [
       "             product_code_carts  time_stamp_carts  event_type_carts  \\\n",
       "customer_id                                                           \n",
       "0                            17                17                17   \n",
       "1                             8                 8                 8   \n",
       "2                             1                 1                 1   \n",
       "3                            21                21                21   \n",
       "4                             3                 3                 3   \n",
       "...                         ...               ...               ...   \n",
       "199991                        4                 4                 4   \n",
       "199992                       14                14                14   \n",
       "199993                        5                 5                 5   \n",
       "199996                        1                 1                 1   \n",
       "199997                       28                28                28   \n",
       "\n",
       "             event_count  \n",
       "customer_id               \n",
       "0                    276  \n",
       "1                     32  \n",
       "2                     33  \n",
       "3                    226  \n",
       "4                     19  \n",
       "...                  ...  \n",
       "199991                27  \n",
       "199992               153  \n",
       "199993                31  \n",
       "199996                25  \n",
       "199997               154  \n",
       "\n",
       "[94561 rows x 4 columns]"
      ]
     },
     "metadata": {},
     "output_type": "display_data"
    }
   ],
   "source": [
    "display(grouped_train_carts)"
   ]
  },
  {
   "cell_type": "markdown",
   "id": "f5d6de0f",
   "metadata": {},
   "source": [
    "### Distribution of number of products added to cart"
   ]
  },
  {
   "cell_type": "code",
   "execution_count": 63,
   "id": "52166a45",
   "metadata": {},
   "outputs": [
    {
     "data": {
      "image/png": "[encoded data removed]",
      "text/plain": [
       "<Figure size 720x360 with 1 Axes>"
      ]
     },
     "metadata": {
      "needs_background": "light"
     },
     "output_type": "display_data"
    }
   ],
   "source": [
    "plt.figure(figsize=(10, 5))\n",
    "sns.histplot(\n",
    "    grouped_train_carts[\"product_code_carts\"], stat=\"percent\", kde=False, bins=100\n",
    ")\n",
    "plt.title(\"Distribution of number of products added to cart by customer\")\n",
    "plt.xlabel(\"Number of products added to cart\")\n",
    "plt.ylabel(\"Number of customers\")\n",
    "plt.show()"
   ]
  },
  {
   "cell_type": "markdown",
   "id": "db58440d",
   "metadata": {},
   "source": [
    "### Number of products ordered vs. number of products clicked"
   ]
  },
  {
   "cell_type": "code",
   "execution_count": 67,
   "id": "39800336",
   "metadata": {},
   "outputs": [
    {
     "data": {
      "image/png": "[encoded data removed]",
      "text/plain": [
       "<Figure size 1080x720 with 1 Axes>"
      ]
     },
     "metadata": {
      "needs_background": "light"
     },
     "output_type": "display_data"
    }
   ],
   "source": [
    "plt.figure(figsize=(15, 10))\n",
    "sns.barplot(\n",
    "    x=grouped_train_orders[\"product_code_orders\"],\n",
    "    y=grouped_train_clicks[\"product_code_clicks\"],\n",
    ")\n",
    "plt.title(\"Distribution of number of products ordered by customer\")\n",
    "plt.xlabel(\"Number of products ordered\")\n",
    "plt.ylabel(\"Number of products clicked\")\n",
    "plt.show()"
   ]
  },
  {
   "cell_type": "markdown",
   "id": "c2286966",
   "metadata": {},
   "source": [
    "### Number of products ordered vs. number of products added to cart"
   ]
  },
  {
   "cell_type": "code",
   "execution_count": 69,
   "id": "1a592522",
   "metadata": {},
   "outputs": [
    {
     "data": {
      "image/png": "[encoded data removed]",
      "text/plain": [
       "<Figure size 1080x720 with 1 Axes>"
      ]
     },
     "metadata": {
      "needs_background": "light"
     },
     "output_type": "display_data"
    }
   ],
   "source": [
    "plt.figure(figsize=(15, 10))\n",
    "sns.barplot(\n",
    "    x=grouped_train_orders[\"product_code_orders\"],\n",
    "    y=grouped_train_carts[\"product_code_carts\"],\n",
    ")\n",
    "plt.title(\"Distribution of number of products ordered by customer\")\n",
    "plt.xlabel(\"Number of products ordered\")\n",
    "plt.ylabel(\"Number of products added to carts\")\n",
    "plt.show()"
   ]
  }
 ],
 "metadata": {
  "kernelspec": {
   "display_name": "Python 3.8.12 ('pytorch')",
   "language": "python",
   "name": "python3"
  },
  "language_info": {
   "codemirror_mode": {
    "name": "ipython",
    "version": 3
   },
   "file_extension": ".py",
   "mimetype": "text/x-python",
   "name": "python",
   "nbconvert_exporter": "python",
   "pygments_lexer": "ipython3",
   "version": "3.8.12"
  },
  "vscode": {
   "interpreter": {
    "hash": "d9326900fcebfee01e1cdd31357bd8776d7e04e2771695113de85227289b23ce"
   }
  }
 },
 "nbformat": 4,
 "nbformat_minor": 5
}
